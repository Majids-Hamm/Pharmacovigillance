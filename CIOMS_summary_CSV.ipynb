{
  "nbformat": 4,
  "nbformat_minor": 0,
  "metadata": {
    "colab": {
      "provenance": [],
      "authorship_tag": "ABX9TyMuox/Ui9ZET4bdXQBMkn0W",
      "include_colab_link": true
    },
    "kernelspec": {
      "name": "python3",
      "display_name": "Python 3"
    },
    "language_info": {
      "name": "python"
    }
  },
  "cells": [
    {
      "cell_type": "markdown",
      "metadata": {
        "id": "view-in-github",
        "colab_type": "text"
      },
      "source": [
        "<a href=\"https://colab.research.google.com/github/Majids-Hamm/Pharmacovigillance/blob/main/CIOMS_summary_CSV.ipynb\" target=\"_parent\"><img src=\"https://colab.research.google.com/assets/colab-badge.svg\" alt=\"Open In Colab\"/></a>"
      ]
    },
    {
      "cell_type": "code",
      "execution_count": 1,
      "metadata": {
        "colab": {
          "base_uri": "https://localhost:8080/"
        },
        "id": "0x95Q9MPniGF",
        "outputId": "4f22add7-a659-4afe-b5f7-7691c5aa9e18"
      },
      "outputs": [
        {
          "output_type": "stream",
          "name": "stdout",
          "text": [
            "Requirement already satisfied: python-docx in /usr/local/lib/python3.12/dist-packages (1.2.0)\n",
            "Requirement already satisfied: rarfile in /usr/local/lib/python3.12/dist-packages (4.2)\n",
            "Requirement already satisfied: pandas in /usr/local/lib/python3.12/dist-packages (2.2.2)\n",
            "Requirement already satisfied: lxml>=3.1.0 in /usr/local/lib/python3.12/dist-packages (from python-docx) (5.4.0)\n",
            "Requirement already satisfied: typing_extensions>=4.9.0 in /usr/local/lib/python3.12/dist-packages (from python-docx) (4.15.0)\n",
            "Requirement already satisfied: numpy>=1.26.0 in /usr/local/lib/python3.12/dist-packages (from pandas) (2.0.2)\n",
            "Requirement already satisfied: python-dateutil>=2.8.2 in /usr/local/lib/python3.12/dist-packages (from pandas) (2.9.0.post0)\n",
            "Requirement already satisfied: pytz>=2020.1 in /usr/local/lib/python3.12/dist-packages (from pandas) (2025.2)\n",
            "Requirement already satisfied: tzdata>=2022.7 in /usr/local/lib/python3.12/dist-packages (from pandas) (2025.2)\n",
            "Requirement already satisfied: six>=1.5 in /usr/local/lib/python3.12/dist-packages (from python-dateutil>=2.8.2->pandas) (1.17.0)\n"
          ]
        }
      ],
      "source": [
        "# --- Task 2: Extract PTs and Causality Assessments from CIOMS Reports ---\n",
        "\n",
        "# Install dependencies\n",
        "!pip install python-docx rarfile pandas\n",
        "\n",
        "import os\n",
        "import re\n",
        "import pandas as pd\n",
        "import rarfile\n",
        "from docx import Document\n",
        "from google.colab import files"
      ]
    },
    {
      "cell_type": "code",
      "source": [
        "# --- Step 1: Extract RAR file ---\n",
        "rar_path = \"/content/CIOMS_files.rar\"   # Path to your uploaded RAR\n",
        "extract_path = \"/content/cioms_docs\"\n",
        "\n",
        "os.makedirs(extract_path, exist_ok=True)\n",
        "with rarfile.RarFile(rar_path) as rf:\n",
        "    rf.extractall(extract_path)\n",
        "\n",
        "print(\"RAR extracted successfully.\")"
      ],
      "metadata": {
        "colab": {
          "base_uri": "https://localhost:8080/"
        },
        "id": "TwB2B4pfn4rQ",
        "outputId": "3c9acaf6-f3a9-45d7-c1ee-fb159a59dd81"
      },
      "execution_count": 4,
      "outputs": [
        {
          "output_type": "stream",
          "name": "stdout",
          "text": [
            "RAR extracted successfully.\n"
          ]
        }
      ]
    },
    {
      "cell_type": "code",
      "source": [
        "# --- Step 2: Helpers from Task 1 (patient code + date) ---\n",
        "\n",
        "def parse_filename_for_info(filename):\n",
        "    \"\"\"Extract patient code and report date from filename if available.\"\"\"\n",
        "    name_without_ext = os.path.splitext(filename)[0]\n",
        "    match = re.search(r'([A-Z0-9]+PEM-\\d{3})-(\\d{8})', name_without_ext)\n",
        "    if match:\n",
        "        patient_code = match.group(1)\n",
        "        filename_date_raw = match.group(2)\n",
        "        return patient_code, filename_date_raw\n",
        "    return None, None\n",
        "\n"
      ],
      "metadata": {
        "id": "gBnDZjNNsOXE"
      },
      "execution_count": 5,
      "outputs": []
    },
    {
      "cell_type": "code",
      "source": [
        "def extract_report_date(doc, fallback_filename, filename_report_date):\n",
        "    \"\"\"Extract 'Date Received by Sponsor' or fallback to filename date.\"\"\"\n",
        "    full_text = \"\\n\".join([p.text for p in doc.paragraphs])\n",
        "    sponsor_date_match = re.search(r\"Date\\s*Received\\s*by\\s*Sponsor\\s*(\\d{1,2}\\s*/\\s*\\d{1,2}\\s*/\\s*\\d{4})\", full_text)\n",
        "    if sponsor_date_match:\n",
        "        return sponsor_date_match.group(1).replace(\" \", \"\")\n",
        "    return filename_report_date if filename_report_date else f\"UNKNOWN_REPORT_DATE_{fallback_filename}\"\n"
      ],
      "metadata": {
        "id": "IY_h2OWAo-9j"
      },
      "execution_count": 6,
      "outputs": []
    },
    {
      "cell_type": "code",
      "source": [
        "# --- Step 3: Main extraction function ---\n",
        "\n",
        "def extract_cioms_summary(docx_path):\n",
        "    filename = os.path.basename(docx_path)\n",
        "    patient_code, filename_report_date = parse_filename_for_info(filename)\n",
        "\n",
        "    try:\n",
        "        doc = Document(docx_path)\n",
        "    except Exception as e:\n",
        "        print(f\"Error reading {filename}: {e}\")\n",
        "        return []\n",
        "\n",
        "    # --- Report Date ---\n",
        "    report_date = extract_report_date(doc, filename, filename_report_date)\n",
        "\n",
        "    # --- Find last table (PT table is always last one) ---\n",
        "    if not doc.tables:\n",
        "        print(f\"No tables in {filename}\")\n",
        "        return []\n",
        "\n",
        "    last_table = doc.tables[-1]\n",
        "\n",
        "    rows_data = []\n",
        "    for r_idx, row in enumerate(last_table.rows):\n",
        "        cells = [c.text.strip() for c in row.cells]\n",
        "        # Skip header row\n",
        "        if r_idx == 0:\n",
        "            continue\n",
        "        if len(cells) < 3:\n",
        "            continue\n",
        "\n",
        "        pt = cells[1] if cells[1] else \"UNKNOWN_PT\"\n",
        "        causality = cells[2] if cells[2] else \"UNKNOWN_CAUSALITY\"\n",
        "\n",
        "        rows_data.append({\n",
        "            \"Patient ID\": patient_code if patient_code else f\"UNKNOWN_CODE_{filename}\",\n",
        "            \"Report Date\": report_date,\n",
        "            \"Source File\": filename,  # keep filename to assign unique CIOMS Number\n",
        "            \"PT\": pt,\n",
        "            \"Causality Assessment\": causality\n",
        "        })\n",
        "\n",
        "    return rows_data\n"
      ],
      "metadata": {
        "id": "LeCRy23AsWy_"
      },
      "execution_count": 7,
      "outputs": []
    },
    {
      "cell_type": "code",
      "source": [
        "# --- Step 4: Process all files ---\n",
        "all_data = []\n",
        "for root, dirs, files_in in os.walk(extract_path):\n",
        "    for f in files_in:\n",
        "        if f.endswith(\".docx\"):\n",
        "            path = os.path.join(root, f)\n",
        "            extracted_rows = extract_cioms_summary(path)\n",
        "            all_data.extend(extracted_rows)\n",
        "\n",
        "print(f\"Extracted {len(all_data)} PT rows.\")"
      ],
      "metadata": {
        "id": "L-oJrjFlsaKn",
        "colab": {
          "base_uri": "https://localhost:8080/"
        },
        "outputId": "aa92ddba-ba16-4f7c-b0c6-417bb2634b9e"
      },
      "execution_count": 8,
      "outputs": [
        {
          "output_type": "stream",
          "name": "stdout",
          "text": [
            "Extracted 469 PT rows.\n"
          ]
        }
      ]
    },
    {
      "cell_type": "code",
      "source": [
        "# --- Step 5: Create DataFrame and assign CIOMS Numbers (per file) ---\n",
        "df = pd.DataFrame(all_data)\n",
        "\n",
        "# Sort by Report Date then Patient ID\n",
        "df.sort_values(by=[\"Report Date\", \"Patient ID\"], inplace=True, ignore_index=True)\n",
        "\n",
        "# Assign CIOMS Number per file\n",
        "df[\"CIOMS Number\"] = None\n",
        "current_number = 1\n",
        "seen_files = {}\n",
        "\n",
        "for idx, row in df.iterrows():\n",
        "    fname = row[\"Source File\"]\n",
        "    if fname not in seen_files:\n",
        "        seen_files[fname] = current_number\n",
        "        current_number += 1\n",
        "    df.at[idx, \"CIOMS Number\"] = seen_files[fname]\n",
        "\n",
        "# Reorder columns (drop Outcome + Source File)\n",
        "df = df[[\"Patient ID\", \"CIOMS Number\", \"Report Date\", \"PT\", \"Causality Assessment\"]]\n"
      ],
      "metadata": {
        "id": "_6RWje9Asdie"
      },
      "execution_count": 9,
      "outputs": []
    },
    {
      "cell_type": "code",
      "source": [
        "# --- Step 6: Save CSV ---\n",
        "output_csv = \"cioms_summary.csv\"\n",
        "df.to_csv(output_csv, index=False, encoding=\"utf-8-sig\")\n",
        "files.download(output_csv)\n",
        "\n",
        "print(\"CSV generated and downloaded successfully.\")"
      ],
      "metadata": {
        "colab": {
          "base_uri": "https://localhost:8080/",
          "height": 34
        },
        "id": "fTG0zstRs8J1",
        "outputId": "fc689162-8272-4412-c6ea-160809344b6a"
      },
      "execution_count": 11,
      "outputs": [
        {
          "output_type": "display_data",
          "data": {
            "text/plain": [
              "<IPython.core.display.Javascript object>"
            ],
            "application/javascript": [
              "\n",
              "    async function download(id, filename, size) {\n",
              "      if (!google.colab.kernel.accessAllowed) {\n",
              "        return;\n",
              "      }\n",
              "      const div = document.createElement('div');\n",
              "      const label = document.createElement('label');\n",
              "      label.textContent = `Downloading \"${filename}\": `;\n",
              "      div.appendChild(label);\n",
              "      const progress = document.createElement('progress');\n",
              "      progress.max = size;\n",
              "      div.appendChild(progress);\n",
              "      document.body.appendChild(div);\n",
              "\n",
              "      const buffers = [];\n",
              "      let downloaded = 0;\n",
              "\n",
              "      const channel = await google.colab.kernel.comms.open(id);\n",
              "      // Send a message to notify the kernel that we're ready.\n",
              "      channel.send({})\n",
              "\n",
              "      for await (const message of channel.messages) {\n",
              "        // Send a message to notify the kernel that we're ready.\n",
              "        channel.send({})\n",
              "        if (message.buffers) {\n",
              "          for (const buffer of message.buffers) {\n",
              "            buffers.push(buffer);\n",
              "            downloaded += buffer.byteLength;\n",
              "            progress.value = downloaded;\n",
              "          }\n",
              "        }\n",
              "      }\n",
              "      const blob = new Blob(buffers, {type: 'application/binary'});\n",
              "      const a = document.createElement('a');\n",
              "      a.href = window.URL.createObjectURL(blob);\n",
              "      a.download = filename;\n",
              "      div.appendChild(a);\n",
              "      a.click();\n",
              "      div.remove();\n",
              "    }\n",
              "  "
            ]
          },
          "metadata": {}
        },
        {
          "output_type": "display_data",
          "data": {
            "text/plain": [
              "<IPython.core.display.Javascript object>"
            ],
            "application/javascript": [
              "download(\"download_f61b00ec-26b6-4d2b-ba98-c7c4d1cc2404\", \"cioms_summary.csv\", 27115)"
            ]
          },
          "metadata": {}
        },
        {
          "output_type": "stream",
          "name": "stdout",
          "text": [
            "CSV generated and downloaded successfully.\n"
          ]
        }
      ]
    },
    {
      "cell_type": "code",
      "source": [],
      "metadata": {
        "id": "Jx17bkeVtADj"
      },
      "execution_count": null,
      "outputs": []
    }
  ]
}