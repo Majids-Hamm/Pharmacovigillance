{
  "nbformat": 4,
  "nbformat_minor": 0,
  "metadata": {
    "colab": {
      "provenance": [],
      "authorship_tag": "ABX9TyPlCoO4IoElUDmmS9lt5/KX",
      "include_colab_link": true
    },
    "kernelspec": {
      "name": "python3",
      "display_name": "Python 3"
    },
    "language_info": {
      "name": "python"
    }
  },
  "cells": [
    {
      "cell_type": "markdown",
      "metadata": {
        "id": "view-in-github",
        "colab_type": "text"
      },
      "source": [
        "<a href=\"https://colab.research.google.com/github/Majids-Hamm/Pharmacovigillance/blob/main/WordDataToPPTXSlides.ipynb\" target=\"_parent\"><img src=\"https://colab.research.google.com/assets/colab-badge.svg\" alt=\"Open In Colab\"/></a>"
      ]
    },
    {
      "cell_type": "code",
      "execution_count": 1,
      "metadata": {
        "colab": {
          "base_uri": "https://localhost:8080/"
        },
        "id": "Y2W9FY_HfVyP",
        "outputId": "25da9955-6c26-48ec-fe75-ce3a3e9796d5"
      },
      "outputs": [
        {
          "output_type": "stream",
          "name": "stdout",
          "text": [
            "Requirement already satisfied: python-docx in /usr/local/lib/python3.12/dist-packages (1.2.0)\n",
            "Requirement already satisfied: python-pptx in /usr/local/lib/python3.12/dist-packages (1.0.2)\n",
            "Requirement already satisfied: lxml>=3.1.0 in /usr/local/lib/python3.12/dist-packages (from python-docx) (5.4.0)\n",
            "Requirement already satisfied: typing_extensions>=4.9.0 in /usr/local/lib/python3.12/dist-packages (from python-docx) (4.15.0)\n",
            "Requirement already satisfied: Pillow>=3.3.2 in /usr/local/lib/python3.12/dist-packages (from python-pptx) (11.3.0)\n",
            "Requirement already satisfied: XlsxWriter>=0.5.7 in /usr/local/lib/python3.12/dist-packages (from python-pptx) (3.2.5)\n"
          ]
        }
      ],
      "source": [
        "# Install necessary libraries for working with Word and PowerPoint files.\n",
        "# This command is specific to Google Colab.\n",
        "!pip install python-docx python-pptx\n",
        "\n",
        "import docx\n",
        "from pptx import Presentation\n",
        "from pptx.util import Inches, Pt\n",
        "from pptx.enum.dml import MSO_THEME_COLOR\n",
        "from pptx.dml.color import RGBColor\n",
        "from pptx.enum.text import MSO_ANCHOR, PP_ALIGN"
      ]
    },
    {
      "cell_type": "code",
      "source": [
        "def get_table_data(doc_path, table_index):\n",
        "    \"\"\"\n",
        "    Extracts data from a specific table in a Word document.\n",
        "\n",
        "    Args:\n",
        "        doc_path (str): The path to the Word document.\n",
        "        table_index (int): The index of the table to extract (0-based).\n",
        "\n",
        "    Returns:\n",
        "        tuple: A tuple containing the header row (list of strings) and data rows (list of lists of strings).\n",
        "    \"\"\"\n",
        "    try:\n",
        "        doc = docx.Document(doc_path)\n",
        "    except docx.shared.NoSuchPartError:\n",
        "        print(f\"Error: Word file not found at '{doc_path}'. Please ensure it is uploaded to the Colab environment.\")\n",
        "        return None, None\n",
        "    except Exception as e:\n",
        "        print(f\"An error occurred while opening the Word file: {e}\")\n",
        "        return None, None\n",
        "\n",
        "    if table_index >= len(doc.tables):\n",
        "        print(f\"Error: Table with index {table_index} not found. The document only has {len(doc.tables)} tables.\")\n",
        "        return None, None\n",
        "\n",
        "    table = doc.tables[table_index]\n",
        "    data_rows = []\n",
        "\n",
        "    # Extract header from the first row of the table\n",
        "    header = [cell.text.strip() for cell in table.rows[0].cells]\n",
        "\n",
        "    # Extract data from the remaining rows\n",
        "    for row in table.rows[1:]:\n",
        "        row_data = [cell.text.strip() for cell in row.cells]\n",
        "        data_rows.append(row_data)\n",
        "\n",
        "    return header, data_rows"
      ],
      "metadata": {
        "id": "twcwOzKLjT3o"
      },
      "execution_count": 2,
      "outputs": []
    },
    {
      "cell_type": "code",
      "source": [
        "def create_slides_from_data(prs, data_rows, header_row, title, slide_layout, column_widths):\n",
        "    \"\"\"\n",
        "    Creates new slides with tables from the given data, applying styling to match the template.\n",
        "\n",
        "    Args:\n",
        "        prs (pptx.presentation.Presentation): The PowerPoint presentation object.\n",
        "        data_rows (list): A list of lists, where each inner list is a row of data.\n",
        "        header_row (list): A list of strings for the table header.\n",
        "        title (str): The title for the new slides.\n",
        "        slide_layout (pptx.slide.SlideLayout): The slide layout object to use.\n",
        "        column_widths (list): A list of floats for column widths in Inches.\n",
        "    \"\"\"\n",
        "    ROWS_PER_TABLE = 9\n",
        "\n",
        "    # Define table styles\n",
        "    header_fill_color = RGBColor(0x00, 0x20, 0x60) # Dark blue\n",
        "    header_font_color = RGBColor(0xFF, 0xFF, 0xFF) # White\n",
        "    table_font_color = RGBColor(0x00, 0x00, 0x00) # Black\n",
        "\n",
        "    # Process data in chunks of 9 rows\n",
        "    for i in range(0, len(data_rows), ROWS_PER_TABLE):\n",
        "        data_chunk = data_rows[i:i + ROWS_PER_TABLE]\n",
        "\n",
        "        # Add a new slide using the template's layout\n",
        "        slide = prs.slides.add_slide(slide_layout)\n",
        "\n",
        "        # Set the title of the slide\n",
        "        title_shape = slide.shapes.title\n",
        "        title_shape.text = title\n",
        "        title_shape.text_frame.paragraphs[0].font.size = Pt(20)\n",
        "        title_shape.text_frame.paragraphs[0].font.name = 'Times New Roman'\n",
        "\n",
        "        # Calculate table position and size to fit the slide\n",
        "        left = Inches(0.5)\n",
        "        top = Inches(1.5)\n",
        "        width = prs.slide_width - Inches(1.0)\n",
        "        height = Inches(5.9) # Fixed height to fit the rows without bulging\n",
        "\n",
        "        table_shape = slide.shapes.add_table(len(data_chunk) + 1, len(header_row), left, top, width, height)\n",
        "        table = table_shape.table\n",
        "\n",
        "        # Set column widths\n",
        "        for col_idx, w in enumerate(column_widths):\n",
        "            table.columns[col_idx].width = Inches(w)\n",
        "\n",
        "        # Populate and style the table\n",
        "        for row_idx, row_data in enumerate([header_row] + data_chunk):\n",
        "            # Ensure the row has the same number of columns as the header\n",
        "            row_data = row_data[:len(header_row)]\n",
        "            for col_idx, cell_data in enumerate(row_data):\n",
        "                cell = table.cell(row_idx, col_idx)\n",
        "                cell.text = cell_data\n",
        "\n",
        "                # Set vertical and horizontal alignment\n",
        "                cell.vertical_anchor = MSO_ANCHOR.MIDDLE\n",
        "                cell.text_frame.paragraphs[0].alignment = PP_ALIGN.CENTER\n",
        "\n",
        "                # Style the header row\n",
        "                if row_idx == 0:\n",
        "                    cell.fill.solid()\n",
        "                    cell.fill.fore_color.rgb = header_fill_color\n",
        "                    cell.text_frame.paragraphs[0].font.color.rgb = header_font_color\n",
        "                    cell.text_frame.paragraphs[0].font.size = Pt(18)\n",
        "                    cell.text_frame.paragraphs[0].font.name = 'Times New Roman'\n",
        "                    cell.text_frame.paragraphs[0].font.bold = True\n",
        "                else:\n",
        "                    # Style data rows with alternating colors\n",
        "                    if row_idx % 2 == 1:\n",
        "                        cell.fill.solid()\n",
        "                        cell.fill.fore_color.rgb = RGBColor(0xF2, 0xF2, 0xF2) # Light Gray\n",
        "                    else:\n",
        "                        cell.fill.background()\n",
        "                    cell.text_frame.paragraphs[0].font.color.rgb = table_font_color\n",
        "                    cell.text_frame.paragraphs[0].font.size = Pt(16)\n",
        "                    cell.text_frame.paragraphs[0].font.name = 'Times New Roman'\n",
        "\n",
        "    print(f\"Created {len(data_rows) // ROWS_PER_TABLE + (1 if len(data_rows) % ROWS_PER_TABLE > 0 else 0)} slides for '{title}' data.\")\n"
      ],
      "metadata": {
        "id": "89abEKLwjdPc"
      },
      "execution_count": 3,
      "outputs": []
    },
    {
      "cell_type": "code",
      "source": [
        "# --- Main Script ---\n",
        "\n",
        "docx_path = '30omztables.docx'\n",
        "pptx_template_path = '30omzSlides.pptx'\n",
        "output_pptx_path = 'output_sae_slides.pptx'\n",
        "\n",
        "# 1. Read data from the Word document\n",
        "print(\"Reading data from Word document...\")\n",
        "# Table 0: Serious Adverse Events (Results in death)\n",
        "header_row_death, death_sae_data = get_table_data(docx_path, 0)\n",
        "if not death_sae_data:\n",
        "    print(\"Could not retrieve death SAE data. Exiting.\")\n",
        "    exit()\n",
        "\n",
        "# Table 1: Other SAEs (Non-death)\n",
        "header_row_other, other_sae_data = get_table_data(docx_path, 1)\n",
        "if not other_sae_data:\n",
        "    print(\"Could not retrieve other SAE data. Exiting.\")\n",
        "    exit()"
      ],
      "metadata": {
        "colab": {
          "base_uri": "https://localhost:8080/"
        },
        "id": "esFK4vCdjeZK",
        "outputId": "d3a24649-2b9c-4379-acd5-a9d5f9811b8f"
      },
      "execution_count": 4,
      "outputs": [
        {
          "output_type": "stream",
          "name": "stdout",
          "text": [
            "Reading data from Word document...\n"
          ]
        }
      ]
    },
    {
      "cell_type": "code",
      "source": [
        "# 2. Load the PowerPoint template\n",
        "print(\"Loading PowerPoint template...\")\n",
        "try:\n",
        "    prs = Presentation(pptx_template_path)\n",
        "except FileNotFoundError:\n",
        "    print(f\"Error: Template file not found at '{pptx_template_path}'. Please upload the template file.\")\n",
        "    exit()\n",
        "\n",
        "# 3. Get a reference slide layout from the template\n",
        "template_slide_layout = prs.slide_layouts[0]\n",
        "\n",
        "# 4. Clean up existing slides to start fresh\n",
        "# We no longer remove existing slides. New slides will be appended to the end.\n",
        "print(\"Preserving existing slides. New slides will be appended.\")\n",
        "\n",
        "# 5. Create slides for death SAEs\n",
        "print(\"Generating slides for death SAEs...\")\n",
        "# Define the new header and reorder the data for death SAEs\n",
        "new_header_death = [\"Subject ID\", \"Group\", \"PT\", \"Causality Assessment\"]\n",
        "reordered_death_sae_data = [[row[1], row[0], row[2], row[3]] for row in death_sae_data]\n",
        "# Define custom column widths to fit the slide\n",
        "col_widths_death = [3.0, 2.0, 3.0, 3.9]\n",
        "create_slides_from_data(prs, reordered_death_sae_data, new_header_death, \"Serious Adverse Events-Details (Results in death)\", template_slide_layout, col_widths_death)\n",
        "\n",
        "# 6. Create slides for other SAEs\n",
        "print(\"Generating slides for other SAEs...\")\n",
        "# Define the new header for other SAEs with 5 columns, with the 4th and 5th swapped\n",
        "new_header_other = [\"Subject ID\", \"Group\", \"PT\", \"Seriousness Criteria\", \"Causality Assessment\"]\n",
        "# Reorder the data to match the new header. The original data from the Word doc is now mapped correctly.\n",
        "reordered_other_sae_data = [[row[1], row[0], row[2], row[3], row[4]] for row in other_sae_data]\n",
        "# Define custom column widths to fit the slide\n",
        "col_widths_other = [2.1, 1.0, 2.3, 3.7, 2.8]\n",
        "create_slides_from_data(prs, reordered_other_sae_data, new_header_other, \"Serious Adverse Events-Details (Other SAEs)\", template_slide_layout, col_widths_other)\n"
      ],
      "metadata": {
        "colab": {
          "base_uri": "https://localhost:8080/"
        },
        "id": "Wbxuk4VbjwOV",
        "outputId": "98b5bff7-4e1e-4568-f551-f6666cf4f946"
      },
      "execution_count": 5,
      "outputs": [
        {
          "output_type": "stream",
          "name": "stdout",
          "text": [
            "Loading PowerPoint template...\n",
            "Preserving existing slides. New slides will be appended.\n",
            "Generating slides for death SAEs...\n",
            "Created 9 slides for 'Serious Adverse Events-Details (Results in death)' data.\n",
            "Generating slides for other SAEs...\n",
            "Created 37 slides for 'Serious Adverse Events-Details (Other SAEs)' data.\n"
          ]
        }
      ]
    },
    {
      "cell_type": "code",
      "source": [
        "# 7. Save the new presentation\n",
        "print(f\"Saving the new presentation to '{output_pptx_path}'...\")\n",
        "prs.save(output_pptx_path)\n",
        "\n",
        "print(\"Process completed successfully!\")"
      ],
      "metadata": {
        "colab": {
          "base_uri": "https://localhost:8080/"
        },
        "id": "dKp7rtAIoMDl",
        "outputId": "98f8fe6b-19f4-41a4-d4a0-dbe9ba0fbf4e"
      },
      "execution_count": 6,
      "outputs": [
        {
          "output_type": "stream",
          "name": "stdout",
          "text": [
            "Saving the new presentation to 'output_sae_slides.pptx'...\n",
            "Process completed successfully!\n"
          ]
        }
      ]
    }
  ]
}